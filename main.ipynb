{
 "cells": [
  {
   "cell_type": "code",
   "execution_count": 1,
   "metadata": {},
   "outputs": [
    {
     "ename": "ModuleNotFoundError",
     "evalue": "No module named 'gpxpy'",
     "output_type": "error",
     "traceback": [
      "\u001b[1;31m---------------------------------------------------------------------------\u001b[0m",
      "\u001b[1;31mModuleNotFoundError\u001b[0m                       Traceback (most recent call last)",
      "Cell \u001b[1;32mIn[1], line 1\u001b[0m\n\u001b[1;32m----> 1\u001b[0m \u001b[38;5;28;01mimport\u001b[39;00m \u001b[38;5;21;01mgpxpy\u001b[39;00m\n\u001b[0;32m      2\u001b[0m \u001b[38;5;28;01mimport\u001b[39;00m \u001b[38;5;21;01mgpxpy\u001b[39;00m\u001b[38;5;21;01m.\u001b[39;00m\u001b[38;5;21;01mgpx\u001b[39;00m\n\u001b[0;32m      3\u001b[0m \u001b[38;5;28;01mimport\u001b[39;00m \u001b[38;5;21;01mbranca\u001b[39;00m\u001b[38;5;21;01m.\u001b[39;00m\u001b[38;5;21;01mcolormap\u001b[39;00m \u001b[38;5;28;01mas\u001b[39;00m \u001b[38;5;21;01mcm\u001b[39;00m\n",
      "\u001b[1;31mModuleNotFoundError\u001b[0m: No module named 'gpxpy'"
     ]
    }
   ],
   "source": [
    "import gpxpy\n",
    "import gpxpy.gpx\n",
    "import branca.colormap as cm\n",
    "import pandas as pd\n",
    "import matplotlib.pyplot as plt\n",
    "import folium\n",
    "from folium.plugins import HeatMap\n",
    "from IPython.display import display\n",
    "import tqdm\n",
    "import os\n",
    "from fit2gpx import Converter\n",
    "import os"
   ]
  },
  {
   "cell_type": "code",
   "execution_count": null,
   "metadata": {},
   "outputs": [],
   "source": [
    "## CUSTOMIZATION\n",
    "\n",
    "# Coordinates of the Initial position of the map ( In this case Berlin, Germany )\n",
    "LOCATION = [52.3, 13.3]\n",
    "ZOOM_START = 10\n",
    "TILES = \"OpenStreetMap\"\n",
    "\n",
    "# Custom Colormap to represent speeds\n",
    "MY_COLORMAP = cm.LinearColormap([\"blue\", \"green\", \"yellow\", \"orange\", \"red\", \"magenta\"], vmin=5, vmax=50, index=[5, 15, 23, 30, 40, 50])\n",
    "\n",
    "# Relative File directories from the location of this notebook\n",
    "USE_FIT_FOLDER = True # if false fit_directory can be empty...\n",
    "FIT_DIRECTORY = \"Raddaten/fit_data/\"\n",
    "GPX_DIRECTORY = \"Raddaten/gpx_data/\""
   ]
  },
  {
   "cell_type": "code",
   "execution_count": null,
   "metadata": {},
   "outputs": [
    {
     "name": "stderr",
     "output_type": "stream",
     "text": [
      "100%|█████████████████████████████████████████████████████████████████████████████████████████████████████████████████████████████████████████████████████████████████████████████████████████████████████████████████████████████████| 595/595 [00:00<00:00, 198631.88it/s]\n"
     ]
    },
    {
     "data": {
      "text/plain": [
       "'Found 595 gpx-files'"
      ]
     },
     "execution_count": 4,
     "metadata": {},
     "output_type": "execute_result"
    }
   ],
   "source": [
    "fit_data = os.listdir(FIT_DIRECTORY)\n",
    "gpx_data = os.listdir(GPX_DIRECTORY)\n",
    "\n",
    "if USE_FIT_FOLDER:\n",
    "    conv = Converter()\n",
    "\n",
    "    for file in tqdm.tqdm(fit_data):\n",
    "        gpx_name = file.split(\".\")[0]+\".gpx\"\n",
    "        if not gpx_name in gpx_data:\n",
    "            conv.fit_to_gpx(FIT_DIRECTORY+file, GPX_DIRECTORY+gpx_name)\n",
    "\n",
    "list_of_gpx_files = [GPX_DIRECTORY+filepath for filepath in os.listdir(GPX_DIRECTORY)]\n",
    "\"Found \" + str(len(list_of_gpx_files)) + \" gpx-files\""
   ]
  },
  {
   "cell_type": "code",
   "execution_count": null,
   "metadata": {},
   "outputs": [],
   "source": [
    "def add_file_to_map(filename, map, min_length=20, opacity=0.3):\n",
    "\n",
    "    with open(filename, \"r\") as gpx_file:\n",
    "        gpx = gpxpy.parse(gpx_file)\n",
    "\n",
    "    if gpx.length_3d()/1000 < min_length:\n",
    "        return\n",
    "\n",
    "    route_info = []\n",
    "\n",
    "    for track in gpx.tracks:\n",
    "        for segment in track.segments:\n",
    "            for point in segment.points:\n",
    "                route_info.append({\"latitude\": point.latitude, \"longitude\": point.longitude, \"elevation\": point.elevation})\n",
    "\n",
    "    route_df = pd.DataFrame(route_info)\n",
    "    \n",
    "    poly_list = []\n",
    "    for _, row in route_df.iterrows():\n",
    "        poly_list.append((row[\"latitude\"], row[\"longitude\"]))\n",
    "\n",
    "    month_dict = {\"01\": \"Januar\",\n",
    "                  \"02\": \"Februar\",\n",
    "                  \"03\": \"März\",\n",
    "                  \"04\": \"April\",\n",
    "                  \"05\": \"Mai\",\n",
    "                  \"06\": \"Juni\",\n",
    "                  \"07\": \"Juli\",\n",
    "                  \"08\": \"August\",\n",
    "                  \"09\": \"September\",\n",
    "                  \"10\": \"Oktober\",\n",
    "                  \"11\": \"November\",\n",
    "                  \"12\": \"Dezember\"}\n",
    "\n",
    "    # name = filename.split(\"/\")[-1].split(\".\")[0]\n",
    "    # date = name[6:8] +\".\"+ month_dict[name[4:6]] +\"\"+ name[0:4]\n",
    "\n",
    "    folium.PolyLine(poly_list, filename, opacity=opacity, color=\"blue\").add_to(map)\n",
    "\n",
    "def add_speed_file_to_map(filename, map, min_length=20, opacity=0.5):\n",
    "    with open(filename, \"r\") as gpx_file:\n",
    "        gpx = gpxpy.parse(gpx_file)\n",
    "\n",
    "    if gpx.length_3d()/1000 < min_length:\n",
    "        return\n",
    "\n",
    "    route_info = []\n",
    "\n",
    "    for track in gpx.tracks:\n",
    "        for segment in track.segments:\n",
    "            previous_point = None\n",
    "            for idx, point in enumerate(segment.points):\n",
    "                if idx != 0:\n",
    "                    route_info.append({\"latitude\": point.latitude, \"longitude\": point.longitude, \"elevation\": point.elevation, \"speed\": point.speed_between(previous_point)})\n",
    "                    previous_point = point\n",
    "                else:\n",
    "                    route_info.append({\"latitude\": point.latitude, \"longitude\": point.longitude, \"elevation\": point.elevation, \"speed\": 0})\n",
    "                    previous_point = point \n",
    "\n",
    "    route_df = pd.DataFrame(route_info)\n",
    "\n",
    "    route_df[\"speed\"][route_df[\"speed\"]>30] = 0\n",
    "\n",
    "    poly_list = []\n",
    "    speed = []\n",
    "    for _, row in route_df.iterrows():\n",
    "        poly_list.append((row[\"latitude\"], row[\"longitude\"]))\n",
    "        speed.append(row[\"speed\"]*3.6)\n",
    "\n",
    "    folium.ColorLine(poly_list, speed, colormap=MY_COLORMAP, opacity=opacity, weight=5, popup=f\"{gpx.length_3d()/1000} km \\nin {gpx.get_duration()/3600} hours\", tooltip=filename).add_to(speed_map)\n",
    "\n",
    "def make_heat_map(filenames, map):\n",
    "\n",
    "    gpx_tracks = []\n",
    "\n",
    "    for file in filenames:\n",
    "        with open(file, \"r\") as gpx_file:\n",
    "            gpx_tracks.append(gpxpy.parse(gpx_file))\n",
    "\n",
    "    route_info = []\n",
    "\n",
    "    for track in gpx_tracks:\n",
    "        for track2 in track.tracks:\n",
    "            for segment in track2.segments:\n",
    "                for point in segment.points:\n",
    "                    route_info.append({\"latitude\": point.latitude, \"longitude\": point.longitude})\n",
    "\n",
    "    route_df = pd.DataFrame(route_info)\n",
    "\n",
    "    heat_data = [[row['latitude'],row['longitude']] for index, row in route_df.iterrows()]\n",
    "    HeatMap(heat_data).add_to(map)"
   ]
  },
  {
   "cell_type": "code",
   "execution_count": null,
   "metadata": {},
   "outputs": [
    {
     "name": "stderr",
     "output_type": "stream",
     "text": [
      "100%|█████████████████████████████████████████████████████████████████████████████████████████████████████████████████████████████████████████████████████████████████████████████████████████████████████████████████████████████████████| 595/595 [02:46<00:00,  3.57it/s]\n"
     ]
    }
   ],
   "source": [
    "heat_map = folium.Map(location=LOCATION, zoom_start=ZOOM_START, tiles=TILES)\n",
    "route_map = folium.Map(location=LOCATION, zoom_start=ZOOM_START, tiles=TILES)\n",
    "speed_map = folium.Map(location=LOCATION, zoom_start=ZOOM_START, tiles=TILES, prefer_canvas=True)\n",
    "\n",
    "for file in tqdm.tqdm(list_of_gpx_files):\n",
    "    add_file_to_map(file, route_map, min_length=50, opacity=1)\n",
    "    add_speed_file_to_map(file, speed_map, min_length=50, opacity=1)"
   ]
  },
  {
   "cell_type": "code",
   "execution_count": 2,
   "metadata": {},
   "outputs": [
    {
     "ename": "NameError",
     "evalue": "name 'route_map' is not defined",
     "output_type": "error",
     "traceback": [
      "\u001b[1;31m---------------------------------------------------------------------------\u001b[0m",
      "\u001b[1;31mNameError\u001b[0m                                 Traceback (most recent call last)",
      "Cell \u001b[1;32mIn[2], line 1\u001b[0m\n\u001b[1;32m----> 1\u001b[0m display(\u001b[43mroute_map\u001b[49m)\n",
      "\u001b[1;31mNameError\u001b[0m: name 'route_map' is not defined"
     ]
    }
   ],
   "source": [
    "display(route_map)"
   ]
  },
  {
   "cell_type": "code",
   "execution_count": 3,
   "metadata": {},
   "outputs": [
    {
     "ename": "NameError",
     "evalue": "name 'MY_COLORMAP' is not defined",
     "output_type": "error",
     "traceback": [
      "\u001b[1;31m---------------------------------------------------------------------------\u001b[0m",
      "\u001b[1;31mNameError\u001b[0m                                 Traceback (most recent call last)",
      "Cell \u001b[1;32mIn[3], line 1\u001b[0m\n\u001b[1;32m----> 1\u001b[0m \u001b[43mMY_COLORMAP\u001b[49m\u001b[38;5;241m.\u001b[39madd_to(speed_map)\n\u001b[0;32m      3\u001b[0m display(speed_map)\n",
      "\u001b[1;31mNameError\u001b[0m: name 'MY_COLORMAP' is not defined"
     ]
    }
   ],
   "source": [
    "MY_COLORMAP.add_to(speed_map)\n",
    "\n",
    "display(speed_map)\n"
   ]
  },
  {
   "cell_type": "code",
   "execution_count": 4,
   "metadata": {},
   "outputs": [
    {
     "ename": "NameError",
     "evalue": "name 'make_heat_map' is not defined",
     "output_type": "error",
     "traceback": [
      "\u001b[1;31m---------------------------------------------------------------------------\u001b[0m",
      "\u001b[1;31mNameError\u001b[0m                                 Traceback (most recent call last)",
      "Cell \u001b[1;32mIn[4], line 1\u001b[0m\n\u001b[1;32m----> 1\u001b[0m \u001b[43mmake_heat_map\u001b[49m(list_of_gpx_files, heat_map)\n\u001b[0;32m      2\u001b[0m display(heat_map)\n",
      "\u001b[1;31mNameError\u001b[0m: name 'make_heat_map' is not defined"
     ]
    }
   ],
   "source": [
    "make_heat_map(list_of_gpx_files, heat_map)\n",
    "display(heat_map)"
   ]
  }
 ],
 "metadata": {
  "kernelspec": {
   "display_name": "Python 3",
   "language": "python",
   "name": "python3"
  },
  "language_info": {
   "codemirror_mode": {
    "name": "ipython",
    "version": 3
   },
   "file_extension": ".py",
   "mimetype": "text/x-python",
   "name": "python",
   "nbconvert_exporter": "python",
   "pygments_lexer": "ipython3",
   "version": "3.9.6"
  }
 },
 "nbformat": 4,
 "nbformat_minor": 4
}
